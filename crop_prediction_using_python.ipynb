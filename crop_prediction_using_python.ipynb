{
  "nbformat": 4,
  "nbformat_minor": 0,
  "metadata": {
    "colab": {
      "name": "crop prediction using python.ipynb",
      "private_outputs": true,
      "provenance": [],
      "collapsed_sections": [],
      "authorship_tag": "ABX9TyPIGDyXTrmKtZRRYZBBSxCU",
      "include_colab_link": true
    },
    "kernelspec": {
      "name": "python3",
      "display_name": "Python 3"
    },
    "language_info": {
      "name": "python"
    }
  },
  "cells": [
    {
      "cell_type": "markdown",
      "metadata": {
        "id": "view-in-github",
        "colab_type": "text"
      },
      "source": [
        "<a href=\"https://colab.research.google.com/github/phurku/crop-prediction-using-python/blob/main/crop_prediction_using_python.ipynb\" target=\"_parent\"><img src=\"https://colab.research.google.com/assets/colab-badge.svg\" alt=\"Open In Colab\"/></a>"
      ]
    },
    {
      "cell_type": "code",
      "metadata": {
        "id": "7c-vl3lVqS1X"
      },
      "source": [
        "# importing libraries\n",
        "import numpy as np\n",
        "import pandas as pd"
      ],
      "execution_count": null,
      "outputs": []
    },
    {
      "cell_type": "code",
      "metadata": {
        "id": "dbXAGMFGqifm"
      },
      "source": [
        "# uploading dataset, I downloaded this data from internet , soil types and season for sowing is listed  from google with respected to crops.\n",
        "from google.colab import files\n",
        "uploaded = files.upload()"
      ],
      "execution_count": null,
      "outputs": []
    },
    {
      "cell_type": "code",
      "metadata": {
        "id": "ECm1JftEqky4"
      },
      "source": [
        "import pandas as pd\n",
        "\n",
        "df = pd.read_csv(\"crops.csv\", delimiter = \",\", index_col=0)\n",
        "df\n"
      ],
      "execution_count": null,
      "outputs": []
    },
    {
      "cell_type": "code",
      "metadata": {
        "id": "EYKz547QxKwx"
      },
      "source": [
        "# assigning dataframe values ro X\n",
        "X=df.iloc[:,:].values\n",
        "\n",
        "#Use LabelEncoder in order to convert categorical string data to its corresponding numerical values\n",
        "from sklearn.preprocessing import LabelEncoder\n",
        "labelencoder_X=LabelEncoder()\n",
        "X[:,8]=labelencoder_X.fit_transform(X[:,8])\n",
        "X[:,7]=labelencoder_X.fit_transform(X[:,7])\n",
        "X[:,6]=labelencoder_X.fit_transform(X[:,6])\n",
        "X=pd.DataFrame(X) # dropna() can't be used with naarray so convert it to dataframe \n",
        "X=X.dropna()# drop all the  null values from the dataset\n",
        "df=X\n",
        "df"
      ],
      "execution_count": null,
      "outputs": []
    },
    {
      "cell_type": "code",
      "metadata": {
        "id": "91ixYl7ytMG3"
      },
      "source": [
        "x=df.iloc[:,[1,2,3,4,5,6,7]].values\n",
        "y=df.iloc[:,[8]].values\n",
        "x=x.astype(int)\n",
        "y=y.astype(int)\n",
        "\n"
      ],
      "execution_count": null,
      "outputs": []
    },
    {
      "cell_type": "code",
      "metadata": {
        "id": "EBHbloHvlZgT"
      },
      "source": [
        "# splitting the datasets to training and testing with testsize 25% and trinzise 75%\n",
        "from sklearn.model_selection import train_test_split\n",
        "x_train,x_test,y_train,y_test=train_test_split(x,y,test_size=0.25,random_state=0)"
      ],
      "execution_count": null,
      "outputs": []
    },
    {
      "cell_type": "code",
      "metadata": {
        "id": "OKcidNxblu5O"
      },
      "source": [
        "len(x_train)"
      ],
      "execution_count": null,
      "outputs": []
    },
    {
      "cell_type": "code",
      "metadata": {
        "id": "rq3Ao9XduNqh"
      },
      "source": [
        "# feature scaling is done to handle the highly varying values\n",
        "from sklearn.preprocessing import StandardScaler\n",
        "sc=StandardScaler()\n",
        "x_train=sc.fit_transform(x_train)\n",
        "x_test=sc.transform(x_test)\n"
      ],
      "execution_count": null,
      "outputs": []
    },
    {
      "cell_type": "code",
      "metadata": {
        "id": "3gX2EGzJvMni"
      },
      "source": [
        "# fitting Naive bayes algorithm  to training dataset\n",
        "from sklearn.naive_bayes import GaussianNB\n",
        "classifier=GaussianNB()\n",
        "classifier.fit(x_train,y_train)"
      ],
      "execution_count": null,
      "outputs": []
    },
    {
      "cell_type": "code",
      "metadata": {
        "id": "u83Qit3XzKBO"
      },
      "source": [
        "y_pred=classifier.predict(x_test)\n",
        "# y_pred"
      ],
      "execution_count": null,
      "outputs": []
    },
    {
      "cell_type": "code",
      "metadata": {
        "id": "-umP4xLd1d7U"
      },
      "source": [
        "from sklearn.metrics import confusion_matrix  \n",
        "cm = confusion_matrix(y_test, y_pred)  \n",
        "# cm"
      ],
      "execution_count": null,
      "outputs": []
    },
    {
      "cell_type": "code",
      "metadata": {
        "id": "l3Ox9yAK1l4F"
      },
      "source": [
        "from sklearn.metrics import accuracy_score\n",
        "accuracy_score(y_pred,y_test)"
      ],
      "execution_count": null,
      "outputs": []
    },
    {
      "cell_type": "code",
      "metadata": {
        "id": "TGKP68Gu2Vg7"
      },
      "source": [
        "# df"
      ],
      "execution_count": null,
      "outputs": []
    },
    {
      "cell_type": "code",
      "metadata": {
        "id": "IiRMH46IEFRk"
      },
      "source": [
        "from sklearn.linear_model import LogisticRegression"
      ],
      "execution_count": null,
      "outputs": []
    },
    {
      "cell_type": "code",
      "metadata": {
        "id": "vJWMaiCEE1Bd"
      },
      "source": [
        "model=LogisticRegression(solver='liblinear',random_state=0)"
      ],
      "execution_count": null,
      "outputs": []
    },
    {
      "cell_type": "code",
      "metadata": {
        "id": "lNYLAaWlFAsS"
      },
      "source": [
        "model.fit(x_train,y_train)"
      ],
      "execution_count": null,
      "outputs": []
    },
    {
      "cell_type": "code",
      "metadata": {
        "id": "hG_VfPUNFRSg"
      },
      "source": [
        "model.predict_proba(x_train)"
      ],
      "execution_count": null,
      "outputs": []
    },
    {
      "cell_type": "code",
      "metadata": {
        "id": "R5dpmTd1FWdr"
      },
      "source": [
        "y_pred=model.predict(x_test)\n",
        "confusion_matrix(y_pred,y_test)"
      ],
      "execution_count": null,
      "outputs": []
    },
    {
      "cell_type": "code",
      "metadata": {
        "id": "JfaBNB_MFZ_2"
      },
      "source": [
        "accuracy_score(y_pred,y_test)"
      ],
      "execution_count": null,
      "outputs": []
    },
    {
      "cell_type": "code",
      "metadata": {
        "id": "Rf6Q0h4KF9ZV"
      },
      "source": [
        "from sklearn import svm\n",
        "model=svm.SVC(kernel='linear')"
      ],
      "execution_count": null,
      "outputs": []
    },
    {
      "cell_type": "code",
      "metadata": {
        "id": "XIK59PhaGiRD"
      },
      "source": [
        "model.fit(x_train,y_train)"
      ],
      "execution_count": null,
      "outputs": []
    },
    {
      "cell_type": "code",
      "metadata": {
        "id": "nWZqQy_2Gn0_"
      },
      "source": [
        "y_pred=model.predict(x_test)\n",
        "confusion_matrix(y_pred,y_test)"
      ],
      "execution_count": null,
      "outputs": []
    },
    {
      "cell_type": "code",
      "metadata": {
        "id": "rMRW9ySVGsqJ"
      },
      "source": [
        "accuracy_score(y_pred,y_test)"
      ],
      "execution_count": null,
      "outputs": []
    },
    {
      "cell_type": "code",
      "metadata": {
        "id": "arJXuRYTG4ay"
      },
      "source": [
        "df"
      ],
      "execution_count": null,
      "outputs": []
    },
    {
      "cell_type": "code",
      "metadata": {
        "id": "VvdxSyLhHccD"
      },
      "source": [
        "def one_nearest_neighbour(x, train_data=x_train, train_labels=y_train):\n",
        "  distances = np.linalg.norm(train_data - x.reshape(1, 3), axis=1)\n",
        "  min_distance_index = np.argmin(distances)\n",
        "  output = train_labels[min_distance_index]\n",
        "  return output\n",
        "  print (distances)\n"
      ],
      "execution_count": null,
      "outputs": []
    },
    {
      "cell_type": "code",
      "metadata": {
        "id": "pIhGofQZRt7n"
      },
      "source": [
        "def k_nearest_neighbours(x, train_data=x_train, train_labels=y_train, k=5):\n",
        "  # add your solution here\n",
        "  distances = np.linalg.norm(train_data - x.reshape(1, 7), axis=1)\n",
        "  sort_dist = np.argsort(distances)[:k]\n",
        "  output = np.median(train_labels[sort_dist])\n",
        "  return output\n",
        "\n",
        "  "
      ],
      "execution_count": null,
      "outputs": []
    },
    {
      "cell_type": "code",
      "metadata": {
        "id": "zotixnALbmmN"
      },
      "source": [
        "# collecting predictions for the test_data\n",
        "def predict(test_data=x_test, train_data=x_train, train_labels=y_train, k=5):\n",
        "  y_predicted = []\n",
        "  for i in range(len(test_data)):\n",
        "    y_predicted.append(k_nearest_neighbours(test_data[i], train_data, train_labels, k))\n",
        "\n",
        "  return np.array(y_predicted)"
      ],
      "execution_count": null,
      "outputs": []
    },
    {
      "cell_type": "code",
      "metadata": {
        "id": "eIzsgKUkbu4i"
      },
      "source": [
        "def accuracy(predicted, real=y_test):\n",
        "  \"\"\"missclassionfication rate\"\"\"\n",
        "  return np.sum(predicted==real) / len(predicted)\n",
        "\n",
        "print(accuracy(predict(x_test, k=3)))\n",
        "\n",
        "\n"
      ],
      "execution_count": null,
      "outputs": []
    },
    {
      "cell_type": "code",
      "metadata": {
        "id": "Gc_nNqymbxvm"
      },
      "source": [
        "from sklearn.model_selection import KFold\n",
        "kf = KFold(n_splits=5)\n",
        "indexes = [idx for idx in kf.split(x_train)]\n",
        "\n",
        "# adjust this code to perform k fold cross validation in order to select the best\n",
        "# k for kNN\n",
        "for k in range(1, 8):\n",
        "  accuracy_list=[]\n",
        "  for train_indexes, validation_indexes in indexes:\n",
        "    Xt = x_train[train_indexes]\n",
        "    yt = y_train[train_indexes]\n",
        "    Xv = x_train[validation_indexes]\n",
        "    yv = y_train[validation_indexes]\n",
        "    accuracy_list.append(accuracy(predict(Xv,Xt,yt,k=k),yv))\n",
        "    \n",
        "  print(f\"k = {k}, average validation accuracy = {sum(accuracy_list)/len(accuracy_list)}\")\n",
        "\n"
      ],
      "execution_count": null,
      "outputs": []
    },
    {
      "cell_type": "code",
      "metadata": {
        "id": "_VHRaH1GcA88"
      },
      "source": [
        "from sklearn.ensemble import RandomForestClassifier, GradientBoostingClassifier\n",
        "from sklearn.tree import DecisionTreeClassifier"
      ],
      "execution_count": null,
      "outputs": []
    },
    {
      "cell_type": "code",
      "metadata": {
        "id": "_nWMyDn7cgO0"
      },
      "source": [
        "model=RandomForestClassifier()\n",
        "model.fit(x_train,y_train)\n",
        "y_pred=model.predict(x_test)\n",
        "accuracy_score(y_pred,y_test)"
      ],
      "execution_count": null,
      "outputs": []
    },
    {
      "cell_type": "code",
      "metadata": {
        "id": "p78tr3YXc30d"
      },
      "source": [
        "model=GradientBoostingClassifier()\n",
        "model.fit(x_train,y_train)\n",
        "y_pred=model.predict(x_test)\n",
        "accuracy_score(y_pred,y_test)"
      ],
      "execution_count": null,
      "outputs": []
    },
    {
      "cell_type": "code",
      "metadata": {
        "id": "bSextjO6dPfI"
      },
      "source": [
        "model=DecisionTreeClassifier()\n",
        "model.fit(x_train,y_train)\n",
        "y_pred=model.predict(x_test)\n",
        "accuracy_score(y_pred,y_test)"
      ],
      "execution_count": null,
      "outputs": []
    }
  ]
}