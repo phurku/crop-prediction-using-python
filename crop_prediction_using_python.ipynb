{
  "nbformat": 4,
  "nbformat_minor": 0,
  "metadata": {
    "colab": {
      "name": "crop prediction using python.ipynb",
      "private_outputs": true,
      "provenance": [],
      "collapsed_sections": [],
      "authorship_tag": "ABX9TyNk3j2Yyc+yIzYG6CA5/KvB",
      "include_colab_link": true
    },
    "kernelspec": {
      "name": "python3",
      "display_name": "Python 3"
    },
    "language_info": {
      "name": "python"
    }
  },
  "cells": [
    {
      "cell_type": "markdown",
      "metadata": {
        "id": "view-in-github",
        "colab_type": "text"
      },
      "source": [
        "<a href=\"https://colab.research.google.com/github/phurku/crop-prediction-using-python/blob/main/crop_prediction_using_python.ipynb\" target=\"_parent\"><img src=\"https://colab.research.google.com/assets/colab-badge.svg\" alt=\"Open In Colab\"/></a>"
      ]
    },
    {
      "cell_type": "code",
      "metadata": {
        "id": "7c-vl3lVqS1X"
      },
      "source": [
        "# importing libraries\n",
        "import numpy as np\n",
        "import pandas as pd"
      ],
      "execution_count": null,
      "outputs": []
    },
    {
      "cell_type": "code",
      "metadata": {
        "id": "dbXAGMFGqifm"
      },
      "source": [
        "# uploading dataset, I downloaded this data from internet , soil types and season for sowing is listed  from google with respected to crops.\n",
        "from google.colab import files\n",
        "uploaded = files.upload()"
      ],
      "execution_count": null,
      "outputs": []
    },
    {
      "cell_type": "code",
      "metadata": {
        "id": "ECm1JftEqky4"
      },
      "source": [
        "\n",
        "df = pd.read_csv(\"crops (1).csv\", delimiter = \",\", index_col=0)\n",
        "df\n"
      ],
      "execution_count": null,
      "outputs": []
    },
    {
      "cell_type": "code",
      "metadata": {
        "id": "mnJFRuc3Dstk"
      },
      "source": [
        "df"
      ],
      "execution_count": null,
      "outputs": []
    },
    {
      "cell_type": "code",
      "metadata": {
        "id": "oLeHCzKDSQMn"
      },
      "source": [
        "df.plot.area(alpha=0.5)"
      ],
      "execution_count": null,
      "outputs": []
    },
    {
      "cell_type": "code",
      "metadata": {
        "id": "EYKz547QxKwx"
      },
      "source": [
        "# assigning dataframe values ro X\n",
        "X=df.iloc[:,:].values\n",
        "\n",
        "#Use LabelEncoder in order to convert categorical string data to its corresponding numerical values\n",
        "from sklearn.preprocessing import LabelEncoder\n",
        "labelencoder_X=LabelEncoder()\n",
        "X[:,8]=labelencoder_X.fit_transform(X[:,8])\n",
        "X[:,7]=labelencoder_X.fit_transform(X[:,7])\n",
        "# X[:,9]=labelencoder_X.fit_transform(X[:,9])\n",
        "X=pd.DataFrame(X) # dropna() can't be used with naarray so convert it to dataframe \n",
        "X=X.dropna()# drop all the  null values from the dataset\n",
        "X"
      ],
      "execution_count": null,
      "outputs": []
    },
    {
      "cell_type": "code",
      "metadata": {
        "id": "89S0bD7zsWWw"
      },
      "source": [
        "\n",
        "X.drop_duplicates()\n",
        "\n"
      ],
      "execution_count": null,
      "outputs": []
    },
    {
      "cell_type": "code",
      "metadata": {
        "id": "91ixYl7ytMG3"
      },
      "source": [
        "x=X.iloc[:,[0,1,2,3,4,5,6,7]].values\n",
        "y=X.iloc[:,[8]].values\n",
        "x=x.astype(int)\n",
        "y=y.astype(int)\n",
        "y"
      ],
      "execution_count": null,
      "outputs": []
    },
    {
      "cell_type": "code",
      "metadata": {
        "id": "EBHbloHvlZgT"
      },
      "source": [
        "# splitting the datasets to training and testing with testsize 25% and trinzise 75%\n",
        "from sklearn.model_selection import train_test_split\n",
        "from sklearn.model_selection import cross_val_score\n",
        "\n",
        "from sklearn import metrics\n",
        "x_train,x_test,y_train,y_test=train_test_split(X,y,test_size=0.25,random_state=2)\n",
        "\n"
      ],
      "execution_count": null,
      "outputs": []
    },
    {
      "cell_type": "code",
      "metadata": {
        "id": "518u_jmFI-cl"
      },
      "source": [
        "x_test[0], y_test[0]"
      ],
      "execution_count": null,
      "outputs": []
    },
    {
      "cell_type": "code",
      "metadata": {
        "id": "rq3Ao9XduNqh"
      },
      "source": [
        "# feature scaling is done to handle the highly varying values\n",
        "from sklearn.preprocessing import StandardScaler\n",
        "sc=StandardScaler()\n",
        "x_train=sc.fit_transform(x_train)\n",
        "x_test=sc.transform(x_test)\n"
      ],
      "execution_count": null,
      "outputs": []
    },
    {
      "cell_type": "code",
      "metadata": {
        "id": "IBolk4942gn5"
      },
      "source": [
        "from sklearn.neighbors import KNeighborsClassifier\n",
        "model=KNeighborsClassifier(n_neighbors=3)\n",
        "model.fit(x_train,y_train)\n",
        "y_pred=model.predict(x_test)\n",
        "metrics.accuracy_score(y_test,y_pred)\n",
        "cross_val_score(model,x,y, cv=10, scoring='accuracy').mean()"
      ],
      "execution_count": null,
      "outputs": []
    },
    {
      "cell_type": "code",
      "metadata": {
        "id": "3gX2EGzJvMni"
      },
      "source": [
        "# fitting Naive bayes algorithm  to training dataset\n",
        "from sklearn.naive_bayes import GaussianNB\n",
        "from sklearn.metrics import accuracy_score\n",
        "\n",
        "model=GaussianNB()\n",
        "model.fit(x_train,y_train)\n",
        "y_pred=model.predict(x_test)\n",
        "accuracy_score(y_pred,y_test)\n",
        "cross_val_score(model,x,y, cv=10, scoring='accuracy').mean()"
      ],
      "execution_count": null,
      "outputs": []
    },
    {
      "cell_type": "code",
      "metadata": {
        "id": "2d9CyT8DpskP"
      },
      "source": [
        "x_test[0]"
      ],
      "execution_count": null,
      "outputs": []
    },
    {
      "cell_type": "code",
      "metadata": {
        "id": "Uu0fVDOpp-fu"
      },
      "source": [
        "y_test[0]"
      ],
      "execution_count": null,
      "outputs": []
    },
    {
      "cell_type": "code",
      "metadata": {
        "id": "QYrxNvlKrZdm"
      },
      "source": [
        "X_test=[[8.67671564e-01, -9.86846413e-01, -4.06710224e-01,  1.42181450e-03,\n",
        "       -4.95386455e-01,  1.30518787e+00,  1.60451108e+00,  8.77275362e-01,\n",
        "       -8.54279487e-01 ]]\n",
        "y_pred=model.predict(X_test)\n",
        "print(y_pred)"
      ],
      "execution_count": null,
      "outputs": []
    },
    {
      "cell_type": "code",
      "metadata": {
        "id": "IiRMH46IEFRk"
      },
      "source": [
        "from sklearn.linear_model import LogisticRegression\n",
        "model=LogisticRegression(solver='liblinear',random_state=0)\n",
        "model.fit(x_train,y_train)\n",
        "y_pred=model.predict(x_test)\n",
        "accuracy_score(y_pred,y_test)\n",
        "cross_val_score(model,x,y, cv=10, scoring='accuracy').mean()"
      ],
      "execution_count": null,
      "outputs": []
    },
    {
      "cell_type": "code",
      "metadata": {
        "id": "ZdSXz3LdIuK2"
      },
      "source": [
        "X_test=[[8.67671564e-01, -9.86846413e-01, -4.06710224e-01,  1.42181450e-03,\n",
        "       -4.95386455e-01,  1.30518787e+00,  1.60451108e+00,  8.77275362e-01,\n",
        "       -8.54279487e-01 ]]\n",
        "y_pred=model.predict(X_test)\n",
        "print(y_pred)"
      ],
      "execution_count": null,
      "outputs": []
    },
    {
      "cell_type": "code",
      "metadata": {
        "id": "Rf6Q0h4KF9ZV"
      },
      "source": [
        "from sklearn import svm\n",
        "model=svm.SVC(kernel='linear')\n",
        "model.fit(x_train,y_train)\n",
        "y_pred=model.predict(x_test)\n",
        "accuracy_score(y_pred,y_test)\n",
        "cross_val_score(model,x,y,cv=10,scoring='accuracy').mean()"
      ],
      "execution_count": null,
      "outputs": []
    },
    {
      "cell_type": "code",
      "metadata": {
        "id": "tPGh4Ux1EUlG"
      },
      "source": [
        "X_test=[[8.67671564e-01, -9.86846413e-01, -4.06710224e-01,  1.42181450e-03,\n",
        "       -4.95386455e-01,  1.30518787e+00,  1.60451108e+00,  8.77275362e-01,\n",
        "       -8.54279487e-01 ]]\n",
        "y_pred=model.predict(X_test)\n",
        "print(y_pred)"
      ],
      "execution_count": null,
      "outputs": []
    },
    {
      "cell_type": "code",
      "metadata": {
        "id": "HJeziA2FoKHi"
      },
      "source": [
        "from sklearn.ensemble import RandomForestClassifier\n",
        "\n",
        "model=RandomForestClassifier()\n",
        "model.fit(x_train,y_train)\n",
        "y_pred=model.predict(x_test)\n",
        "accuracy_score(y_pred,y_test)\n",
        "cross_val_score(model,x,y,cv=10,scoring='accuracy').mean()"
      ],
      "execution_count": null,
      "outputs": []
    },
    {
      "cell_type": "code",
      "metadata": {
        "id": "NX3DYjUOI6JU"
      },
      "source": [
        "X_test=[[8.67671564e-01, -9.86846413e-01, -4.06710224e-01,  1.42181450e-03,\n",
        "       -4.95386455e-01,  1.30518787e+00,  1.60451108e+00,  8.77275362e-01,\n",
        "       -8.54279487e-01 ]]\n",
        "y_pred=model.predict(X_test)\n",
        "print(y_pred)"
      ],
      "execution_count": null,
      "outputs": []
    },
    {
      "cell_type": "code",
      "metadata": {
        "id": "p78tr3YXc30d"
      },
      "source": [
        "from sklearn.ensemble import GradientBoostingClassifier\n",
        "\n",
        "model=GradientBoostingClassifier()\n",
        "model.fit(x_train,y_train)\n",
        "y_pred=model.predict(x_test)\n",
        "accuracy_score(y_pred,y_test)\n",
        "cross_val_score(model,x,y,cv=10,scoring='accuracy').mean()"
      ],
      "execution_count": null,
      "outputs": []
    },
    {
      "cell_type": "code",
      "metadata": {
        "id": "zTE9Rf3TOHVL"
      },
      "source": [
        "X_test=[[8.67671564e-01, -9.86846413e-01, -4.06710224e-01,  1.42181450e-03,\n",
        "       -4.95386455e-01,  1.30518787e+00,  1.60451108e+00,  8.77275362e-01,\n",
        "       -8.54279487e-01 ]]\n",
        "y_pred=model.predict(X_test)\n",
        "print(y_pred)"
      ],
      "execution_count": null,
      "outputs": []
    },
    {
      "cell_type": "code",
      "metadata": {
        "id": "bSextjO6dPfI"
      },
      "source": [
        "from sklearn.tree import DecisionTreeClassifier\n",
        "model=DecisionTreeClassifier()\n",
        "model.fit(x_train,y_train)\n",
        "y_pred=model.predict(x_test)\n",
        "accuracy_score(y_pred,y_test)\n",
        "cross_val_score(model,x,y,cv=10,scoring='accuracy').mean()"
      ],
      "execution_count": null,
      "outputs": []
    },
    {
      "cell_type": "code",
      "metadata": {
        "id": "h0QrZ4QHLcIV"
      },
      "source": [
        "X_test=[[8.67671564e-01, -9.86846413e-01, -4.06710224e-01,  1.42181450e-03,\n",
        "       -4.95386455e-01,  1.30518787e+00,  1.60451108e+00,  8.77275362e-01,\n",
        "       -8.54279487e-01 ]]\n",
        "y_pred=model.predict(X_test)\n",
        "print(y_pred)"
      ],
      "execution_count": null,
      "outputs": []
    }
  ]
}